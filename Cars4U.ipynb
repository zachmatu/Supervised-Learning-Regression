{
 "cells": [
  {
   "cell_type": "markdown",
   "id": "94f0aa17-9a43-4f4d-88c2-2fc01310d664",
   "metadata": {
    "tags": []
   },
   "source": [
    "# Objective\n",
    "\n",
    "To explore and visualize the Cars4U dataset, build a linear regression model to predict the prices of used cars, and generate a set of insights and recommendations that will help the business.\n"
   ]
  },
  {
   "cell_type": "markdown",
   "id": "f79c8b5d-9cba-48ee-b985-94f4d1d1ddbb",
   "metadata": {
    "tags": []
   },
   "source": [
    "# Problem Definition\n",
    "\n",
    "How do we define a good predictive pricing model that can effectively predict the price of used cars and can help the business in devising profitable strategies using differential pricing? And, What does the performance assessment look like for such a model?\n"
   ]
  },
  {
   "cell_type": "markdown",
   "id": "c92e18de-4696-4e5e-8551-a2e3f265226c",
   "metadata": {
    "tags": []
   },
   "source": [
    "# Key Questions\n",
    "\n",
    "* How many types of car brands and models are available?\n",
    "* How does the Price vary across different car brands ?\n",
    "* How does year of manufacture vary with the pricing of used cars?\n",
    "* High performance cars are good for certain types of customers. How many cars are available for different brands with 200 bhp and above?\n",
    "* What percentage of cars have a high bhp across different brands?\n",
    "* How does the New_Price vary with used car price across all brands? How do we determine depreciation?\n",
    "* How does the number of seats vary with price across different brands?\n",
    "\n",
    "\n",
    "\n",
    "According to https://www.monash.edu/, Differential pricing is a pricing strategy in which a company sets different prices for the same product on the basis of differing customer type, time of purchase, etc; also called Discriminatory Pricing, Flexible Pricing, Multiple Pricing, Variable Pricing.\n",
    "\n",
    "In the case of Cars4U, we will use a combination of dependent variables to come up with a pricing model for used cars and test it to ascertain that it can meet the differential pricing requirement."
   ]
  },
  {
   "cell_type": "markdown",
   "id": "215ce71e-3d44-46ad-a9be-c9587c6aeac9",
   "metadata": {
    "tags": []
   },
   "source": [
    "# Import all the necessary libraries"
   ]
  },
  {
   "cell_type": "code",
   "execution_count": 4,
   "id": "370a35fc-faa9-49ae-9e5a-fb4ffb3fe590",
   "metadata": {},
   "outputs": [
    {
     "name": "stdout",
     "output_type": "stream",
     "text": [
      "The nb_black extension is already loaded. To reload it, use:\n",
      "  %reload_ext nb_black\n"
     ]
    },
    {
     "data": {
      "application/javascript": [
       "\n",
       "            setTimeout(function() {\n",
       "                var nbb_cell_id = 4;\n",
       "                var nbb_unformatted_code = \"%load_ext nb_black\\nimport numpy as np\\nimport pandas as pd\\nimport matplotlib.pyplot as plt\\nfrom sklearn.linear_model import LinearRegression\\nfrom sklearn.metrics import mean_squared_error as mse, mean_absolute_error as mae, r2_score\\nfrom sklearn.model_selection import train_test_split\\nimport seaborn as sns\\nimport datetime\\n\\n# Removes the limit for the number of displayed columns\\npd.set_option(\\\"display.max_columns\\\", None)\\n# Sets the limit for the number of displayed rows\\npd.set_option(\\\"display.max_rows\\\", 200)\";\n",
       "                var nbb_formatted_code = \"%load_ext nb_black\\nimport numpy as np\\nimport pandas as pd\\nimport matplotlib.pyplot as plt\\nfrom sklearn.linear_model import LinearRegression\\nfrom sklearn.metrics import (\\n    mean_squared_error as mse,\\n    mean_absolute_error as mae,\\n    r2_score,\\n)\\nfrom sklearn.model_selection import train_test_split\\nimport seaborn as sns\\nimport datetime\\n\\n# Removes the limit for the number of displayed columns\\npd.set_option(\\\"display.max_columns\\\", None)\\n# Sets the limit for the number of displayed rows\\npd.set_option(\\\"display.max_rows\\\", 200)\";\n",
       "                var nbb_cells = Jupyter.notebook.get_cells();\n",
       "                for (var i = 0; i < nbb_cells.length; ++i) {\n",
       "                    if (nbb_cells[i].input_prompt_number == nbb_cell_id) {\n",
       "                        if (nbb_cells[i].get_text() == nbb_unformatted_code) {\n",
       "                             nbb_cells[i].set_text(nbb_formatted_code);\n",
       "                        }\n",
       "                        break;\n",
       "                    }\n",
       "                }\n",
       "            }, 500);\n",
       "            "
      ],
      "text/plain": [
       "<IPython.core.display.Javascript object>"
      ]
     },
     "metadata": {},
     "output_type": "display_data"
    }
   ],
   "source": [
    "%load_ext nb_black\n",
    "import numpy as np\n",
    "import pandas as pd\n",
    "import matplotlib.pyplot as plt\n",
    "from sklearn.linear_model import LinearRegression\n",
    "from sklearn.metrics import mean_squared_error as mse, mean_absolute_error as mae, r2_score\n",
    "from sklearn.model_selection import train_test_split\n",
    "import seaborn as sns\n",
    "import datetime\n",
    "\n",
    "# Removes the limit for the number of displayed columns\n",
    "pd.set_option(\"display.max_columns\", None)\n",
    "# Sets the limit for the number of displayed rows\n",
    "pd.set_option(\"display.max_rows\", 200)"
   ]
  },
  {
   "cell_type": "code",
   "execution_count": 5,
   "id": "5159ddb9-a46c-4d01-8bd3-6ca469ad0200",
   "metadata": {},
   "outputs": [
    {
     "data": {
      "application/javascript": [
       "\n",
       "            setTimeout(function() {\n",
       "                var nbb_cell_id = 5;\n",
       "                var nbb_unformatted_code = \"# Load the data set into a pandas dataframe and preview it\\ndata = pd.read_csv(\\\"./data_sets/used_cars_data.csv\\\")\";\n",
       "                var nbb_formatted_code = \"# Load the data set into a pandas dataframe and preview it\\ndata = pd.read_csv(\\\"./data_sets/used_cars_data.csv\\\")\";\n",
       "                var nbb_cells = Jupyter.notebook.get_cells();\n",
       "                for (var i = 0; i < nbb_cells.length; ++i) {\n",
       "                    if (nbb_cells[i].input_prompt_number == nbb_cell_id) {\n",
       "                        if (nbb_cells[i].get_text() == nbb_unformatted_code) {\n",
       "                             nbb_cells[i].set_text(nbb_formatted_code);\n",
       "                        }\n",
       "                        break;\n",
       "                    }\n",
       "                }\n",
       "            }, 500);\n",
       "            "
      ],
      "text/plain": [
       "<IPython.core.display.Javascript object>"
      ]
     },
     "metadata": {},
     "output_type": "display_data"
    }
   ],
   "source": [
    "# Load the data set into a pandas dataframe and preview it\n",
    "data = pd.read_csv(\"./data_sets/used_cars_data.csv\")\n"
   ]
  },
  {
   "cell_type": "markdown",
   "id": "ee0dc6e0-c77f-4f08-a510-750ceb20f79f",
   "metadata": {
    "tags": []
   },
   "source": [
    "# Data background and contents"
   ]
  },
  {
   "cell_type": "code",
   "execution_count": 6,
   "id": "fd939c14-4247-4d33-a846-4ff1c153d0ab",
   "metadata": {},
   "outputs": [
    {
     "name": "stdout",
     "output_type": "stream",
     "text": [
      "There are 7253 rows and 14 columns.\n"
     ]
    },
    {
     "data": {
      "application/javascript": [
       "\n",
       "            setTimeout(function() {\n",
       "                var nbb_cell_id = 6;\n",
       "                var nbb_unformatted_code = \"# checking the shape of the data\\nprint(f\\\"There are {data.shape[0]} rows and {data.shape[1]} columns.\\\")\";\n",
       "                var nbb_formatted_code = \"# checking the shape of the data\\nprint(f\\\"There are {data.shape[0]} rows and {data.shape[1]} columns.\\\")\";\n",
       "                var nbb_cells = Jupyter.notebook.get_cells();\n",
       "                for (var i = 0; i < nbb_cells.length; ++i) {\n",
       "                    if (nbb_cells[i].input_prompt_number == nbb_cell_id) {\n",
       "                        if (nbb_cells[i].get_text() == nbb_unformatted_code) {\n",
       "                             nbb_cells[i].set_text(nbb_formatted_code);\n",
       "                        }\n",
       "                        break;\n",
       "                    }\n",
       "                }\n",
       "            }, 500);\n",
       "            "
      ],
      "text/plain": [
       "<IPython.core.display.Javascript object>"
      ]
     },
     "metadata": {},
     "output_type": "display_data"
    }
   ],
   "source": [
    "# checking the shape of the data\n",
    "print(f\"There are {data.shape[0]} rows and {data.shape[1]} columns.\")"
   ]
  },
  {
   "cell_type": "code",
   "execution_count": null,
   "id": "0ee9d43b-aeb9-4771-8229-f2112b19ecdata",
   "metadata": {},
   "outputs": [
    {
     "data": {
      "text/html": [
       "<div>\n",
       "<style scoped>\n",
       "    .dataframe tbody tr th:only-of-type {\n",
       "        vertical-align: middle;\n",
       "    }\n",
       "\n",
       "    .dataframe tbody tr th {\n",
       "        vertical-align: top;\n",
       "    }\n",
       "\n",
       "    .dataframe thead th {\n",
       "        text-align: right;\n",
       "    }\n",
       "</style>\n",
       "<table border=\"1\" class=\"dataframe\">\n",
       "  <thead>\n",
       "    <tr style=\"text-align: right;\">\n",
       "      <th></th>\n",
       "      <th>S.No.</th>\n",
       "      <th>Name</th>\n",
       "      <th>Location</th>\n",
       "      <th>Year</th>\n",
       "      <th>Kilometers_Driven</th>\n",
       "      <th>Fuel_Type</th>\n",
       "      <th>Transmission</th>\n",
       "      <th>Owner_Type</th>\n",
       "      <th>Mileage</th>\n",
       "      <th>Engine</th>\n",
       "      <th>Power</th>\n",
       "      <th>Seats</th>\n",
       "      <th>New_Price</th>\n",
       "      <th>Price</th>\n",
       "    </tr>\n",
       "  </thead>\n",
       "  <tbody>\n",
       "    <tr>\n",
       "      <th>4584</th>\n",
       "      <td>4584</td>\n",
       "      <td>Tata Tigor 1.05 Revotorq XT</td>\n",
       "      <td>Kochi</td>\n",
       "      <td>2018</td>\n",
       "      <td>28973</td>\n",
       "      <td>Diesel</td>\n",
       "      <td>Manual</td>\n",
       "      <td>First</td>\n",
       "      <td>24.7 kmpl</td>\n",
       "      <td>1047 CC</td>\n",
       "      <td>69 bhp</td>\n",
       "      <td>5.0</td>\n",
       "      <td>7.15</td>\n",
       "      <td>6.64</td>\n",
       "    </tr>\n",
       "    <tr>\n",
       "      <th>6505</th>\n",
       "      <td>6505</td>\n",
       "      <td>Volkswagen Vento Diesel Highline</td>\n",
       "      <td>Chennai</td>\n",
       "      <td>2011</td>\n",
       "      <td>76041</td>\n",
       "      <td>Diesel</td>\n",
       "      <td>Manual</td>\n",
       "      <td>First</td>\n",
       "      <td>20.54 kmpl</td>\n",
       "      <td>1598 CC</td>\n",
       "      <td>103.6 bhp</td>\n",
       "      <td>5.0</td>\n",
       "      <td>13.23</td>\n",
       "      <td>NaN</td>\n",
       "    </tr>\n",
       "    <tr>\n",
       "      <th>3675</th>\n",
       "      <td>3675</td>\n",
       "      <td>Maruti Swift VDI</td>\n",
       "      <td>Ahmedabad</td>\n",
       "      <td>2012</td>\n",
       "      <td>65000</td>\n",
       "      <td>Diesel</td>\n",
       "      <td>Manual</td>\n",
       "      <td>First</td>\n",
       "      <td>22.9 kmpl</td>\n",
       "      <td>1248 CC</td>\n",
       "      <td>74 bhp</td>\n",
       "      <td>5.0</td>\n",
       "      <td>7.88</td>\n",
       "      <td>3.90</td>\n",
       "    </tr>\n",
       "    <tr>\n",
       "      <th>5654</th>\n",
       "      <td>5654</td>\n",
       "      <td>Hyundai i20 Magna Optional 1.2</td>\n",
       "      <td>Kochi</td>\n",
       "      <td>2014</td>\n",
       "      <td>42315</td>\n",
       "      <td>Petrol</td>\n",
       "      <td>Manual</td>\n",
       "      <td>First</td>\n",
       "      <td>18.5 kmpl</td>\n",
       "      <td>1197 CC</td>\n",
       "      <td>82.9 bhp</td>\n",
       "      <td>5.0</td>\n",
       "      <td>10.25</td>\n",
       "      <td>4.79</td>\n",
       "    </tr>\n",
       "    <tr>\n",
       "      <th>4297</th>\n",
       "      <td>4297</td>\n",
       "      <td>Toyota Camry 2.5 G</td>\n",
       "      <td>Mumbai</td>\n",
       "      <td>2014</td>\n",
       "      <td>68400</td>\n",
       "      <td>Petrol</td>\n",
       "      <td>Automatic</td>\n",
       "      <td>First</td>\n",
       "      <td>12.98 kmpl</td>\n",
       "      <td>2494 CC</td>\n",
       "      <td>178.4 bhp</td>\n",
       "      <td>5.0</td>\n",
       "      <td>40.62</td>\n",
       "      <td>13.50</td>\n",
       "    </tr>\n",
       "    <tr>\n",
       "      <th>2603</th>\n",
       "      <td>2603</td>\n",
       "      <td>Mercedes-Benz New C-Class 220 CDI AT</td>\n",
       "      <td>Jaipur</td>\n",
       "      <td>2010</td>\n",
       "      <td>74213</td>\n",
       "      <td>Diesel</td>\n",
       "      <td>Automatic</td>\n",
       "      <td>First</td>\n",
       "      <td>14.84 kmpl</td>\n",
       "      <td>2143 CC</td>\n",
       "      <td>170 bhp</td>\n",
       "      <td>5.0</td>\n",
       "      <td>49.49</td>\n",
       "      <td>11.50</td>\n",
       "    </tr>\n",
       "    <tr>\n",
       "      <th>4337</th>\n",
       "      <td>4337</td>\n",
       "      <td>Volkswagen Vento Petrol Highline AT</td>\n",
       "      <td>Kochi</td>\n",
       "      <td>2014</td>\n",
       "      <td>32283</td>\n",
       "      <td>Petrol</td>\n",
       "      <td>Automatic</td>\n",
       "      <td>Second</td>\n",
       "      <td>14.4 kmpl</td>\n",
       "      <td>1598 CC</td>\n",
       "      <td>103.6 bhp</td>\n",
       "      <td>5.0</td>\n",
       "      <td>13.23</td>\n",
       "      <td>5.41</td>\n",
       "    </tr>\n",
       "    <tr>\n",
       "      <th>6625</th>\n",
       "      <td>6625</td>\n",
       "      <td>Maruti Swift VDI BSIV</td>\n",
       "      <td>Kolkata</td>\n",
       "      <td>2012</td>\n",
       "      <td>72000</td>\n",
       "      <td>Diesel</td>\n",
       "      <td>Manual</td>\n",
       "      <td>First</td>\n",
       "      <td>17.8 kmpl</td>\n",
       "      <td>1248 CC</td>\n",
       "      <td>NaN</td>\n",
       "      <td>5.0</td>\n",
       "      <td>7.88</td>\n",
       "      <td>NaN</td>\n",
       "    </tr>\n",
       "    <tr>\n",
       "      <th>2846</th>\n",
       "      <td>2846</td>\n",
       "      <td>Skoda Superb Elegance 1.8 TSI AT</td>\n",
       "      <td>Kochi</td>\n",
       "      <td>2011</td>\n",
       "      <td>73783</td>\n",
       "      <td>Petrol</td>\n",
       "      <td>Automatic</td>\n",
       "      <td>Second</td>\n",
       "      <td>13.7 kmpl</td>\n",
       "      <td>1798 CC</td>\n",
       "      <td>157.75 bhp</td>\n",
       "      <td>5.0</td>\n",
       "      <td>33.36</td>\n",
       "      <td>5.23</td>\n",
       "    </tr>\n",
       "    <tr>\n",
       "      <th>1237</th>\n",
       "      <td>1237</td>\n",
       "      <td>Audi Q3 2.0 TDI Quattro</td>\n",
       "      <td>Hyderabad</td>\n",
       "      <td>2013</td>\n",
       "      <td>60000</td>\n",
       "      <td>Diesel</td>\n",
       "      <td>Automatic</td>\n",
       "      <td>First</td>\n",
       "      <td>17.32 kmpl</td>\n",
       "      <td>1968 CC</td>\n",
       "      <td>184 bhp</td>\n",
       "      <td>5.0</td>\n",
       "      <td>44.80</td>\n",
       "      <td>21.00</td>\n",
       "    </tr>\n",
       "  </tbody>\n",
       "</table>\n",
       "</div>"
      ],
      "text/plain": [
       "      S.No.                                  Name   Location  Year  \\\n",
       "4584   4584           Tata Tigor 1.05 Revotorq XT      Kochi  2018   \n",
       "6505   6505      Volkswagen Vento Diesel Highline    Chennai  2011   \n",
       "3675   3675                      Maruti Swift VDI  Ahmedabad  2012   \n",
       "5654   5654        Hyundai i20 Magna Optional 1.2      Kochi  2014   \n",
       "4297   4297                    Toyota Camry 2.5 G     Mumbai  2014   \n",
       "2603   2603  Mercedes-Benz New C-Class 220 CDI AT     Jaipur  2010   \n",
       "4337   4337   Volkswagen Vento Petrol Highline AT      Kochi  2014   \n",
       "6625   6625                 Maruti Swift VDI BSIV    Kolkata  2012   \n",
       "2846   2846      Skoda Superb Elegance 1.8 TSI AT      Kochi  2011   \n",
       "1237   1237               Audi Q3 2.0 TDI Quattro  Hyderabad  2013   \n",
       "\n",
       "      Kilometers_Driven Fuel_Type Transmission Owner_Type     Mileage  \\\n",
       "4584              28973    Diesel       Manual      First   24.7 kmpl   \n",
       "6505              76041    Diesel       Manual      First  20.54 kmpl   \n",
       "3675              65000    Diesel       Manual      First   22.9 kmpl   \n",
       "5654              42315    Petrol       Manual      First   18.5 kmpl   \n",
       "4297              68400    Petrol    Automatic      First  12.98 kmpl   \n",
       "2603              74213    Diesel    Automatic      First  14.84 kmpl   \n",
       "4337              32283    Petrol    Automatic     Second   14.4 kmpl   \n",
       "6625              72000    Diesel       Manual      First   17.8 kmpl   \n",
       "2846              73783    Petrol    Automatic     Second   13.7 kmpl   \n",
       "1237              60000    Diesel    Automatic      First  17.32 kmpl   \n",
       "\n",
       "       Engine       Power  Seats  New_Price  Price  \n",
       "4584  1047 CC      69 bhp    5.0       7.15   6.64  \n",
       "6505  1598 CC   103.6 bhp    5.0      13.23    NaN  \n",
       "3675  1248 CC      74 bhp    5.0       7.88   3.90  \n",
       "5654  1197 CC    82.9 bhp    5.0      10.25   4.79  \n",
       "4297  2494 CC   178.4 bhp    5.0      40.62  13.50  \n",
       "2603  2143 CC     170 bhp    5.0      49.49  11.50  \n",
       "4337  1598 CC   103.6 bhp    5.0      13.23   5.41  \n",
       "6625  1248 CC         NaN    5.0       7.88    NaN  \n",
       "2846  1798 CC  157.75 bhp    5.0      33.36   5.23  \n",
       "1237  1968 CC     184 bhp    5.0      44.80  21.00  "
      ]
     },
     "execution_count": 7,
     "metadata": {},
     "output_type": "execute_result"
    },
    {
     "data": {
      "application/javascript": [
       "\n",
       "            setTimeout(function() {\n",
       "                var nbb_cell_id = 7;\n",
       "                var nbb_unformatted_code = \"# Data sample\\ndata.sample(10, random_state=2)\";\n",
       "                var nbb_formatted_code = \"# Data sample\\ndata.sample(10, random_state=2)\";\n",
       "                var nbb_cells = Jupyter.notebook.get_cells();\n",
       "                for (var i = 0; i < nbb_cells.length; ++i) {\n",
       "                    if (nbb_cells[i].input_prompt_number == nbb_cell_id) {\n",
       "                        if (nbb_cells[i].get_text() == nbb_unformatted_code) {\n",
       "                             nbb_cells[i].set_text(nbb_formatted_code);\n",
       "                        }\n",
       "                        break;\n",
       "                    }\n",
       "                }\n",
       "            }, 500);\n",
       "            "
      ],
      "text/plain": [
       "<IPython.core.display.Javascript object>"
      ]
     },
     "metadata": {},
     "output_type": "display_data"
    },
    {
     "data": {
      "application/javascript": [
       "\n",
       "            setTimeout(function() {\n",
       "                var nbb_cell_id = 7;\n",
       "                var nbb_unformatted_code = \"# Data sample\\ndata.sample(10, random_state=2)\";\n",
       "                var nbb_formatted_code = \"# Data sample\\ndata.sample(10, random_state=2)\";\n",
       "                var nbb_cells = Jupyter.notebook.get_cells();\n",
       "                for (var i = 0; i < nbb_cells.length; ++i) {\n",
       "                    if (nbb_cells[i].input_prompt_number == nbb_cell_id) {\n",
       "                        if (nbb_cells[i].get_text() == nbb_unformatted_code) {\n",
       "                             nbb_cells[i].set_text(nbb_formatted_code);\n",
       "                        }\n",
       "                        break;\n",
       "                    }\n",
       "                }\n",
       "            }, 500);\n",
       "            "
      ],
      "text/plain": [
       "<IPython.core.display.Javascript object>"
      ]
     },
     "metadata": {},
     "output_type": "display_data"
    }
   ],
   "source": [
    "# Data sample\n",
    "data.sample(10, random_state=2)"
   ]
  },
  {
   "cell_type": "markdown",
   "id": "e4a3c81c-d5ba-4843-8e43-f1b75eb8281f",
   "metadata": {},
   "source": [
    "Looking at the data, we do not need S.no (Serial number) so we will drop it right away"
   ]
  },
  {
   "cell_type": "code",
   "execution_count": null,
   "id": "4af8f77f-7aa4-4c68-8217-5e61dba499f6",
   "metadata": {},
   "outputs": [],
   "source": [
    "data.drop([\"S.No.\"], axis=1, inplace=True)\n",
    "# reset the indexes\n",
    "data.reset_index()"
   ]
  },
  {
   "cell_type": "code",
   "execution_count": null,
   "id": "7d06917d-a0aa-4940-a21c-3eb60019963c",
   "metadata": {},
   "outputs": [],
   "source": [
    "# checking column datatypes and number of non-null values\n",
    "data.info()"
   ]
  },
  {
   "cell_type": "markdown",
   "id": "017b2c7d-168a-49c2-9b19-ef6ec6f630be",
   "metadata": {},
   "source": [
    "* We have 3 floats, 3 Integers and & columns of Object type"
   ]
  },
  {
   "cell_type": "code",
   "execution_count": null,
   "id": "dc022e79-cb44-4339-a2cd-8bd0d8b49206",
   "metadata": {},
   "outputs": [],
   "source": [
    "# Check for missing values\n",
    "data.isnull().sum()"
   ]
  },
  {
   "cell_type": "markdown",
   "id": "5eb8f0fb-c6b2-4c8f-9696-b2fb38a8313a",
   "metadata": {},
   "source": [
    " We have missing values in the data on Engine, Power, Seats and Price columns"
   ]
  },
  {
   "cell_type": "code",
   "execution_count": null,
   "id": "870afc02-b0ff-4633-9d75-fac0fc796a8d",
   "metadata": {},
   "outputs": [],
   "source": [
    "# Check for duplicated values\n",
    "data.duplicated().sum()\n",
    "data.loc[data.duplicated()]"
   ]
  },
  {
   "cell_type": "markdown",
   "id": "3da665bd-e300-4156-8f52-49350346cfe0",
   "metadata": {},
   "source": [
    "We have 1 duplicate in the data. Let us treat it accordingly "
   ]
  },
  {
   "cell_type": "code",
   "execution_count": null,
   "id": "b9152b1b-640e-4399-be91-4548f15f7837",
   "metadata": {},
   "outputs": [],
   "source": [
    "data = data.drop_duplicates()"
   ]
  },
  {
   "cell_type": "code",
   "execution_count": null,
   "id": "6fa26c80-670d-49e0-9af1-d8c90f19f34a",
   "metadata": {},
   "outputs": [],
   "source": [
    "#verify if duplicates dropped\n",
    "data.duplicated().sum()"
   ]
  },
  {
   "cell_type": "code",
   "execution_count": null,
   "id": "6f98f9data-011d-4865-b85f-0f78b89757b2",
   "metadata": {},
   "outputs": [],
   "source": [
    "# Let's look at the statistical summary of the data\n",
    "data.describe(include=\"all\").T"
   ]
  },
  {
   "cell_type": "markdown",
   "id": "05b3c508-3e30-4c87-b9c7-6e23c43b81ef",
   "metadata": {},
   "source": [
    "* There are 2041 different car brands in the data\n",
    "* We see that Mahindra XUV500 W8 2WD is the most common car\n",
    "* Majority of the cars are sort from Mumbai\n",
    "* The average year of manufacture is 2013 with the oldest car manufactured in 1996 and newest is 2019\n",
    "* The average kilometers driven is 58699 with min & max of 171 and 6500000 KMS. The max kilometers driven value seems like an outlier, we will investigate it\n",
    "* Most common type of fuel type is Diesel\n",
    "* Majority of the cars sold are of Manual transmission\n",
    "* Majority of the cars sold are new given that owner type is First meaning that most customers prefer new cars as 1st choice preference\n",
    "* The modal mileage is 17.0 kmpl.\n",
    "* The modal power is 74 bhp. We observe units in the column value hence the need to separate to obtain min,max std for this column\n",
    "* The maximum price for new cars is 375 INR while the minimum price use 3.91 INR Lakhs\n",
    "* The average price of used cars is 9.5 INR , minimum oprice is 0.44 INR Lakhs while max price is 160. The deviation from mean is high so this could be an outlier\n",
    "* We observe that 50% of all new cars cost 11 INR and above\n",
    "* We observe that 50% of all used cars cost 5.64 INR and above\n",
    "* Most of the cars are 5 seaters\n",
    "\n"
   ]
  },
  {
   "cell_type": "markdown",
   "id": "3ba5b75d-dbbb-4f1f-aac8-faab867a5774",
   "metadata": {
    "tags": []
   },
   "source": [
    "# Exploratory Data Analysis"
   ]
  },
  {
   "cell_type": "markdown",
   "id": "6a9b83c2-a55a-4bdd-9463-26e51e7c54ce",
   "metadata": {
    "tags": []
   },
   "source": [
    "## Univariate Analysis"
   ]
  },
  {
   "cell_type": "code",
   "execution_count": null,
   "id": "7a2a1b17-b906-4b94-8ed6-8b22b7ba0147",
   "metadata": {},
   "outputs": [],
   "source": [
    "# function to plot a boxplot and a histogram along the same scale.\n",
    "# Credit : From Anime Rating Case study\n",
    "\n",
    "\n",
    "def histogram_boxplot(data, feature, figsize=(12, 7), kde=False, bins=None, hue=None):\n",
    "    \"\"\"\n",
    "    Boxplot and histogram combined\n",
    "\n",
    "    data: dataframe\n",
    "    feature: dataframe column\n",
    "    figsize: size of figure (default (12,7))\n",
    "    kde: whether to the show density curve (default False)\n",
    "    bins: number of bins for histogram (default None)\n",
    "    \"\"\"\n",
    "    f2, (ax_box2, ax_hist2) = plt.subplots(\n",
    "        nrows=2,  # Number of rows of the subplot grid= 2\n",
    "        sharex=True,  # x-axis will be shared among all subplots\n",
    "        gridspec_kw={\"height_ratios\": (0.25, 0.75)},\n",
    "        figsize=figsize,\n",
    "    )  # creating the 2 subplots\n",
    "    sns.boxplot(\n",
    "        data=data, x=feature, ax=ax_box2, showmeans=True, color=\"violet\", hue=hue\n",
    "    )  # boxplot will be created and a star will indicate the mean value of the column\n",
    "    sns.histplot(\n",
    "        data=data, x=feature, kde=kde, ax=ax_hist2, bins=bins, palette=\"winter\", hue=hue\n",
    "    ) if bins else sns.histplot(\n",
    "        data=data, x=feature, kde=kde, ax=ax_hist2\n",
    "    )  # For histogram\n",
    "    ax_hist2.axvline(\n",
    "        data[feature].mean(), color=\"green\", linestyle=\"--\"\n",
    "    )  # Add mean to the histogram\n",
    "    ax_hist2.axvline(\n",
    "        data[feature].median(), color=\"black\", linestyle=\"-\"\n",
    "    )  # Add median to the histogram\n",
    "    \n",
    "    # function to create labeled barplots\n",
    "\n",
    "\n",
    "def labeled_barplot(data, feature, perc=False, n=None):\n",
    "    \"\"\"\n",
    "    Barplot with percentage at the top\n",
    "\n",
    "    data: dataframe\n",
    "    feature: dataframe column\n",
    "    perc: whether to display percentages instead of count (default is False)\n",
    "    n: displays the top n category levels (default is None, i.e., display all levels)\n",
    "    \"\"\"\n",
    "\n",
    "    total = len(data[feature])  # length of the column\n",
    "    count = data[feature].nunique()\n",
    "    if n is None:\n",
    "        plt.figure(figsize=(count + 1, 5))\n",
    "    else:\n",
    "        plt.figure(figsize=(n + 1, 5))\n",
    "\n",
    "    plt.xticks(rotation=90, fontsize=15)\n",
    "    ax = sns.countplot(\n",
    "        data=data,\n",
    "        x=feature,\n",
    "        palette=\"Paired\",\n",
    "        order=data[feature].value_counts().index[:n].sort_values(),\n",
    "    )\n",
    "\n",
    "    for p in ax.patches:\n",
    "        if perc == True:\n",
    "            label = \"{:.1f}%\".format(\n",
    "                100 * p.get_height() / total\n",
    "            )  # percentage of each class of the category\n",
    "        else:\n",
    "            label = p.get_height()  # count of each level of the category\n",
    "\n",
    "        x = p.get_x() + p.get_width() / 2  # width of the plot\n",
    "        y = p.get_height()  # height of the plot\n",
    "\n",
    "        ax.annotate(\n",
    "            label,\n",
    "            (x, y),\n",
    "            ha=\"center\",\n",
    "            va=\"center\",\n",
    "            size=12,\n",
    "            xytext=(0, 5),\n",
    "            textcoords=\"offset points\",\n",
    "        )  # annotate the percentage\n",
    "\n",
    "    plt.show()  # show the plot"
   ]
  },
  {
   "cell_type": "markdown",
   "id": "186cf637-17b4-4f73-b7a6-1ca83fd5b761",
   "metadata": {},
   "source": [
    "### Year"
   ]
  },
  {
   "cell_type": "code",
   "execution_count": null,
   "id": "5504957c-3e8d-453d-8016-01c844b8294e",
   "metadata": {},
   "outputs": [],
   "source": [
    "histogram_boxplot(data, \"Year\")"
   ]
  },
  {
   "cell_type": "markdown",
   "id": "c73d06f5-cb81-4fdc-93de-9cac908a7ff5",
   "metadata": {},
   "source": [
    "* The distrubution for year is left Skewed\n",
    "* We observe outliers in this column\n",
    "* We can use Year to determing car age which will be more useful"
   ]
  },
  {
   "cell_type": "markdown",
   "id": "63d3363c-1bb5-41dd-a6b8-4fe5d14fcbaf",
   "metadata": {},
   "source": [
    "### Kilometers_Driven "
   ]
  },
  {
   "cell_type": "code",
   "execution_count": null,
   "id": "26190bef-4bf2-4993-9971-a4aa6f6d2758",
   "metadata": {},
   "outputs": [],
   "source": [
    "histogram_boxplot(data, \"Kilometers_Driven\", bins=10000)"
   ]
  },
  {
   "cell_type": "markdown",
   "id": "eef819a9-830f-4d94-88d5-024c31db546f",
   "metadata": {},
   "source": [
    "* The distribution for Kilometers_Driven is left skewed.\n",
    "* We have one outlier. Needs further investigation"
   ]
  },
  {
   "cell_type": "markdown",
   "id": "102cf492-eec1-408e-93e3-c67858fe36e0",
   "metadata": {},
   "source": [
    "#### Investigating the outlier in kilometers driven"
   ]
  },
  {
   "cell_type": "code",
   "execution_count": null,
   "id": "30d4634b-8e4c-40a7-9817-7358ef5ee102",
   "metadata": {},
   "outputs": [],
   "source": [
    "data.loc[data[\"Kilometers_Driven\"] > 6000000]"
   ]
  },
  {
   "cell_type": "markdown",
   "id": "d85e46fd-628e-4343-b488-5f0af3ab7ad2",
   "metadata": {},
   "source": [
    "We conclude that it is not normal for a car to have driven 6.5 m kilomters.  This outlier needs to be treated accordingly "
   ]
  },
  {
   "cell_type": "markdown",
   "id": "a9340624-16bf-4cfc-8429-f609fa6ac3fa",
   "metadata": {},
   "source": [
    "### Seats"
   ]
  },
  {
   "cell_type": "code",
   "execution_count": null,
   "id": "012fc79e-c706-454f-aa4a-ed299c1e9103",
   "metadata": {},
   "outputs": [],
   "source": [
    "plt.figure(figsize=(10, 5))\n",
    "sns.histplot(data=data, x=\"Seats\")\n",
    "plt.show()"
   ]
  },
  {
   "cell_type": "markdown",
   "id": "daac9a18-0975-4018-acac-2ff7eb8553ba",
   "metadata": {},
   "source": [
    "* The distribution for this column is randomly distributed. Bivariate analysis will help to get more insights"
   ]
  },
  {
   "cell_type": "markdown",
   "id": "42eae0e4-7844-433b-bcb7-8854378745be",
   "metadata": {},
   "source": [
    "### Price"
   ]
  },
  {
   "cell_type": "code",
   "execution_count": null,
   "id": "5bee6abe-e204-44c0-b5aa-6f85cc85355e",
   "metadata": {},
   "outputs": [],
   "source": [
    "histogram_boxplot(data, \"Price\")"
   ]
  },
  {
   "cell_type": "markdown",
   "id": "a82f04c5-5b26-4fab-9b9b-339a612118bd",
   "metadata": {},
   "source": [
    "* The distribution for this column skewed to the left\n",
    "* We also have many outliers for this column hence the need for proper treatment"
   ]
  },
  {
   "cell_type": "markdown",
   "id": "6889ff98-fe4b-4003-86e5-4280f60d6695",
   "metadata": {},
   "source": [
    "### Location"
   ]
  },
  {
   "cell_type": "code",
   "execution_count": null,
   "id": "9086fd78-d9e0-47data-8338-38327f3bbdata2",
   "metadata": {},
   "outputs": [],
   "source": [
    "labeled_barplot(data, \"Location\")"
   ]
  },
  {
   "cell_type": "markdown",
   "id": "c035aee6-9ddd-42a1-b98a-52efefaa82cc",
   "metadata": {},
   "source": [
    "* We observe that majority of the car locations are available at Mumbai, Hyderabad, Combatore, Koci and Pune\n"
   ]
  },
  {
   "cell_type": "markdown",
   "id": "b86b9ebc-a0da-41e9-9c35-bbda11bdb54b",
   "metadata": {},
   "source": [
    "### Fuel Type"
   ]
  },
  {
   "cell_type": "code",
   "execution_count": null,
   "id": "421d8data9-ddc8-461a-8467-8a4651e85579",
   "metadata": {},
   "outputs": [],
   "source": [
    "labeled_barplot(data, \"Fuel_Type\")"
   ]
  },
  {
   "cell_type": "markdown",
   "id": "07a3fefe-a922-4291-934b-d3a26e304f56",
   "metadata": {},
   "source": [
    "* Diesel and Petrol Engine cars form the majority of the cars in the data-set"
   ]
  },
  {
   "cell_type": "markdown",
   "id": "adb5fb04-2b21-4336-b866-69e04667e5ac",
   "metadata": {},
   "source": [
    "### Transmission"
   ]
  },
  {
   "cell_type": "code",
   "execution_count": null,
   "id": "f7fe7353-eed2-4195-b45b-bcba15776f73",
   "metadata": {},
   "outputs": [],
   "source": [
    "labeled_barplot(data, \"Transmission\")"
   ]
  },
  {
   "cell_type": "markdown",
   "id": "5776092f-1331-466b-be5b-92bbfd9d853f",
   "metadata": {},
   "source": [
    "* We have 2 tyeps of car transmission in the dataset\n",
    "* Manual cars form the majority in the dataset"
   ]
  },
  {
   "cell_type": "markdown",
   "id": "e30b4cfe-5f0b-4430-a821-194c91411316",
   "metadata": {},
   "source": [
    "### Owner_Type"
   ]
  },
  {
   "cell_type": "code",
   "execution_count": null,
   "id": "ca687216-8f86-43a2-a1c9-7b9ae32de60a",
   "metadata": {},
   "outputs": [],
   "source": [
    "labeled_barplot(data, \"Owner_Type\")"
   ]
  },
  {
   "cell_type": "markdown",
   "id": "fc301119-5f79-42fd-942b-5f9e53111ac1",
   "metadata": {},
   "source": [
    "* First Owner Type form the majorty of cars in the data set. \n",
    "* Fourth & Above owner types are the least sold cars"
   ]
  },
  {
   "cell_type": "code",
   "execution_count": null,
   "id": "8121ad73-29f2-4f91-b13e-610e8368b753",
   "metadata": {},
   "outputs": [],
   "source": []
  },
  {
   "cell_type": "markdown",
   "id": "4ce1datac4-cf07-483d-8893-6769939f4223",
   "metadata": {},
   "source": [
    "## Bivariate Analysis"
   ]
  },
  {
   "cell_type": "markdown",
   "id": "cd29a1f1-eb3f-47f7-bdaa-eb09c67e5622",
   "metadata": {
    "tags": []
   },
   "source": [
    "### Heat Map"
   ]
  },
  {
   "cell_type": "code",
   "execution_count": null,
   "id": "9542e505-ae7e-43cf-a638-e35993d19f38",
   "metadata": {},
   "outputs": [],
   "source": [
    "plt.figure(figsize=(12, 7))\n",
    "sns.heatmap(data.corr(), annot=True, vmin=-1, vmax=1, fmt=\".2f\", cmap=\"Spectral\")\n",
    "plt.show()"
   ]
  },
  {
   "cell_type": "markdown",
   "id": "b2a3f6ad-51a0-4cbf-9a5f-638cb0dad06b",
   "metadata": {
    "tags": []
   },
   "source": [
    "### Pair plot"
   ]
  },
  {
   "cell_type": "code",
   "execution_count": null,
   "id": "d7738e50-72d1-4097-aae7-9a39286c6566",
   "metadata": {},
   "outputs": [],
   "source": [
    "plt.figure(figsize=(12, 7))\n",
    "sns.pairplot(data=data, hue=\"Owner_Type\")\n",
    "plt.show()"
   ]
  },
  {
   "cell_type": "markdown",
   "id": "2670e0data-2c04-4a0b-b934-a78ca291c073",
   "metadata": {},
   "source": [
    "* We observe a strong correlation between the used car Price and the price of a new car\n",
    "* A negative correlation is observed between Price and Kilometers_Driven which is normal. Cars with more KMs tend to have a lower price\n",
    "* Price has a positive correlation with Year. Wich is normal because the newer the car the higher the price.\n",
    "* Price has a weak postitve corelation with Seats. \n",
    "\n"
   ]
  },
  {
   "cell_type": "markdown",
   "id": "249f51d2-2eb4-4a5e-8e76-9893b41f900d",
   "metadata": {
    "tags": []
   },
   "source": [
    "### Price Vs New Price vs Owner Type"
   ]
  },
  {
   "cell_type": "code",
   "execution_count": null,
   "id": "57a1bac3-2a53-41c3-b18e-4b8f9baf8c33",
   "metadata": {},
   "outputs": [],
   "source": [
    "plt.figure(figsize=(10, 5))\n",
    "sns.scatterplot(data=data, x=\"Price\", y=\"New_Price\", hue=\"Owner_Type\")\n",
    "plt.show()"
   ]
  },
  {
   "cell_type": "markdown",
   "id": "9dc5f533-1590-4c91-817f-58a5efba4775",
   "metadata": {},
   "source": [
    "### Price Vs kilometers driven"
   ]
  },
  {
   "cell_type": "code",
   "execution_count": null,
   "id": "e8d039d6-22c9-4e36-afe5-2bd58a3deb5e",
   "metadata": {},
   "outputs": [],
   "source": [
    "plt.figure(figsize=(10, 5))\n",
    "sns.scatterplot(data=data, x=\"Kilometers_Driven\", y=\"Price\", hue=\"Transmission\")\n",
    "plt.show()"
   ]
  },
  {
   "cell_type": "markdown",
   "id": "4766e012-3e67-4077-9f55-b0c5ea998fba",
   "metadata": {},
   "source": [
    "\n",
    "* We observe a strong correlation between new and old car pricers especially from first car owner types than other owner types.\n",
    "* Customers tend to prefer cars with lower kilometers driven and Manual transmission type\n",
    "* Prices for cars with manual transmission cars are rerelatively higher than prices for cars with automatic transmission\n",
    "* Automatic cars are more expensive than manual cars"
   ]
  },
  {
   "cell_type": "markdown",
   "id": "1c1754b3-4cc8-4efd-ba28-dbc06b34209c",
   "metadata": {},
   "source": []
  },
  {
   "cell_type": "markdown",
   "id": "e5c18681-3f5c-492d-8c83-f3cc2b053391",
   "metadata": {
    "tags": []
   },
   "source": [
    "# Data Preprocessing"
   ]
  },
  {
   "cell_type": "code",
   "execution_count": null,
   "id": "a3fe8612-9482-40eb-8c0a-62990533a1b4",
   "metadata": {},
   "outputs": [],
   "source": [
    "# Check the data\n",
    "data.head()"
   ]
  },
  {
   "cell_type": "markdown",
   "id": "fd67d7b7-f1a0-497b-bb25-b9f863f87b31",
   "metadata": {},
   "source": [
    "From the data we observe that Mileage, Engine and power have units. Let us strip the units and convert the columns to numericals and replace null values with na"
   ]
  },
  {
   "cell_type": "markdown",
   "id": "e54b4479-8087-484d-91a8-ddata67c7d7ad2",
   "metadata": {
    "jp-MarkdownHeadingCollapsed": true,
    "tags": []
   },
   "source": [
    "#### Remove units from Engine"
   ]
  },
  {
   "cell_type": "code",
   "execution_count": null,
   "id": "24a0884f-8b13-4837-baa6-320072677792",
   "metadata": {},
   "outputs": [],
   "source": [
    "# Striping units from Engine column\n",
    "data[\"Engine\"] = data[\"Engine\"].str.rstrip(\" CC\")\n",
    "# Replace null with nan\n",
    "data[\"Engine\"] = data[\"Engine\"].replace(regex=\"null\", value=np.nan)"
   ]
  },
  {
   "cell_type": "markdown",
   "id": "f384c0ed-68ca-4b60-b0e6-b62547f0bc24",
   "metadata": {
    "tags": []
   },
   "source": [
    "#### Remove units from  power"
   ]
  },
  {
   "cell_type": "code",
   "execution_count": null,
   "id": "80a3670f-dcfa-4eea-a69a-18c50814d866",
   "metadata": {},
   "outputs": [],
   "source": [
    "# Striping units from Power column\n",
    "data[\"Power\"] = data[\"Power\"].str.rstrip(\" bhp\")\n",
    "# Replace null with nan\n",
    "data[\"Power\"] = data[\"Power\"].replace(regex=\"null\", value=np.nan)"
   ]
  },
  {
   "cell_type": "markdown",
   "id": "3db5b988-ffeb-4eb4-b896-eb1b962f4d12",
   "metadata": {
    "tags": []
   },
   "source": [
    "#### Remove units from Mileage"
   ]
  },
  {
   "cell_type": "code",
   "execution_count": null,
   "id": "5ff712f1-5f29-4484-b7ef-ef65b2a912fd",
   "metadata": {},
   "outputs": [],
   "source": [
    "# Striping units from Mileage column and replace\n",
    "data[\"Mileage\"] = data[\"Mileage\"].str.rstrip(\" kmpl\")\n",
    "data[\"Mileage\"] = data[\"Mileage\"].str.rstrip(\" km/kg\")\n",
    "data[\"Mileage\"] = data[\"Mileage\"].replace(regex=\"null\", value=np.nan)"
   ]
  },
  {
   "cell_type": "code",
   "execution_count": null,
   "id": "addatae634-b72a-4b7c-99e8-b54c16fdb1b1",
   "metadata": {},
   "outputs": [],
   "source": [
    "# Verify the data\n",
    "data.sample(10)"
   ]
  },
  {
   "cell_type": "code",
   "execution_count": null,
   "id": "eedd8314-7af2-4447-82c3-1e03a0a1e953",
   "metadata": {},
   "outputs": [],
   "source": [
    "# Convert to numerical columns\n",
    "data[\"Mileage\"] = data[\"Mileage\"].astype(float)\n",
    "data[\"Power\"] = data[\"Power\"].astype(float)\n",
    "data[\"Engine\"] = data[\"Engine\"].astype(float)"
   ]
  },
  {
   "cell_type": "code",
   "execution_count": null,
   "id": "02d3ba7f-a1f8-4946-b561-b59d30e6156b",
   "metadata": {},
   "outputs": [],
   "source": [
    "# Verify data types\n",
    "data.info()"
   ]
  },
  {
   "cell_type": "markdown",
   "id": "e718f5fa-eef6-41c1-a255-de94a74515a0",
   "metadata": {
    "tags": []
   },
   "source": [
    "## Outlier Treatment"
   ]
  },
  {
   "cell_type": "markdown",
   "id": "bf2823e5-8724-49d9-9286-c001101b14ae",
   "metadata": {},
   "source": [
    "* We will investigate and treat outliers in Price , Kilometers Driven & Power columns"
   ]
  },
  {
   "cell_type": "code",
   "execution_count": null,
   "id": "46eb7b49-a75d-40bd-ab1a-acf0f996c313",
   "metadata": {},
   "outputs": [],
   "source": [
    "#Function to plot box & hist plots\n",
    "def boxHistplot(data, feature):\n",
    "    plt.figure(figsize=(10,5))\n",
    "    sns.histplot(data=data,x=feature)\n",
    "    plt.show()\n",
    "    \n",
    "    plt.figure(figsize=(10,5))\n",
    "    sns.boxplot(data=data,x=feature)\n",
    "    plt.show()\n",
    "    \n",
    "def densityPlot(data,feature):\n",
    "    plt.figure(figsize=(10,5))\n",
    "    sns.distplot(data[feature], kde=True)\n",
    "    plt.show()"
   ]
  },
  {
   "cell_type": "code",
   "execution_count": null,
   "id": "ba0c1d26-b121-41f7-9231-f156d61c74dc",
   "metadata": {},
   "outputs": [],
   "source": []
  },
  {
   "cell_type": "markdown",
   "id": "3b67fce2-4449-428d-935a-2be7101cb708",
   "metadata": {
    "tags": []
   },
   "source": [
    "### Power Outlier Treatment"
   ]
  },
  {
   "cell_type": "code",
   "execution_count": null,
   "id": "16c4335d-f502-4036-8bec-390d2e257243",
   "metadata": {},
   "outputs": [],
   "source": [
    "boxHistplot(data,'Power')\n",
    "densityPlot(data,'Power')"
   ]
  },
  {
   "cell_type": "markdown",
   "id": "8e528e67-bd9f-4c8c-8d3c-5845853aadde",
   "metadata": {},
   "source": [
    "* The box plot flags many values as outliers but the histplot indicates left right skewness. These points seem consistent with the overall distribution  "
   ]
  },
  {
   "cell_type": "code",
   "execution_count": null,
   "id": "6e229a5e-427f-4138-adb9-2bf596efb390",
   "metadata": {},
   "outputs": [],
   "source": [
    "# Examinining sensitivity of the outliers by checking how many values are greater than 4*IQR"
   ]
  },
  {
   "cell_type": "code",
   "execution_count": null,
   "id": "e188371f-3ab9-407f-b5fc-21d334bef412",
   "metadata": {},
   "outputs": [],
   "source": [
    "def outlierSensitivity(data, feature):\n",
    "    quartiles = np.quantile(data[feature][data[feature].notnull()], [.25, .75])\n",
    "    power_iqr = 4 * (quartiles[1] - quartiles[0])\n",
    "    print(f'Q1 = {quartiles[0]}, Q3 = {quartiles[1]}, IQR = {power_iqr}')\n",
    "    outlier_powers = data.loc[np.abs(data['Power'] - data[feature].median()) > power_iqr, feature]\n",
    "    print(f'We have {outlier_powers.shape[0]} values on {feature} above IQR')\n",
    "    \n",
    "\n"
   ]
  },
  {
   "cell_type": "code",
   "execution_count": null,
   "id": "a8559dfe-015e-4710-bbb3-0b462bf7b35e",
   "metadata": {},
   "outputs": [],
   "source": [
    "outlierSensitivity(data,'Power')"
   ]
  },
  {
   "cell_type": "markdown",
   "id": "018c2368-52e4-411e-8559-4c2f81602dd5",
   "metadata": {},
   "source": [
    "* The distirbution is fairly normal with mild right skewness. All data points seem valid. We will ignore Power treatment for now"
   ]
  },
  {
   "cell_type": "markdown",
   "id": "d76cf0eb-e8b6-4bac-a0c2-b17ee99efe1a",
   "metadata": {
    "tags": []
   },
   "source": [
    "### Kilometers Driven Outlier Treatment"
   ]
  },
  {
   "cell_type": "code",
   "execution_count": null,
   "id": "632c17b4-71a6-477a-be4c-8c4a7c2de7bd",
   "metadata": {},
   "outputs": [],
   "source": [
    "boxHistplot(data,'Kilometers_Driven')\n",
    "densityPlot(data,'Kilometers_Driven')"
   ]
  },
  {
   "cell_type": "markdown",
   "id": "79e5441f-8c8e-458f-9cea-68211279827a",
   "metadata": {},
   "source": [
    "* We seem to have one extreme outlier in this column let us investigate"
   ]
  },
  {
   "cell_type": "code",
   "execution_count": null,
   "id": "814f9442-69c9-46e0-ae7f-d3537b98246b",
   "metadata": {},
   "outputs": [],
   "source": [
    "data[data['Kilometers_Driven'] > 1000000]"
   ]
  },
  {
   "cell_type": "markdown",
   "id": "d492839b-9e32-4790-8bb3-26dc8b5edc34",
   "metadata": {},
   "source": [
    "* It is not normal for a car to have more than 6.5 m. We will replace this outlier with na and replace with median value"
   ]
  },
  {
   "cell_type": "code",
   "execution_count": null,
   "id": "2c895e45-6c14-4cff-9f4b-988d14f46886",
   "metadata": {},
   "outputs": [],
   "source": [
    "#Replace extreme outlier with nan\n",
    "data.loc[2328, \"Kilometers_Driven\"] = np.nan"
   ]
  },
  {
   "cell_type": "code",
   "execution_count": null,
   "id": "0c1a80a6-93ed-48a2-acc5-1a0e1e64fb02",
   "metadata": {},
   "outputs": [],
   "source": [
    "#Inpute with median\n",
    "data[\"Kilometers_Driven\"].fillna(data[\"Kilometers_Driven\"].median(), inplace=True)  # median imputation for Kilometers Drive"
   ]
  },
  {
   "cell_type": "markdown",
   "id": "8a1c928c-4671-4145-a91c-46022899b266",
   "metadata": {},
   "source": [
    "* We still have some outliers in KM_Driven but distribution has improved.\n",
    "* We can use log transformation to further treat this column"
   ]
  },
  {
   "cell_type": "code",
   "execution_count": null,
   "id": "a7db79ab-0dd8-4fde-8895-563464cc59b6",
   "metadata": {},
   "outputs": [],
   "source": [
    "#Log transformation\n",
    "data['Kilometers_Driven' + '_log'] = np.log(data['Kilometers_Driven'])"
   ]
  },
  {
   "cell_type": "code",
   "execution_count": null,
   "id": "e21a54a5-100b-40bc-b5a0-ab35b18292f3",
   "metadata": {},
   "outputs": [],
   "source": [
    "#verify after transformation\n",
    "boxHistplot(data,'Kilometers_Driven_log')\n",
    "densityPlot(data,'Kilometers_Driven_log')"
   ]
  },
  {
   "cell_type": "markdown",
   "id": "f43d3368-ca1d-42ac-afd7-b84bdd55c4f7",
   "metadata": {
    "tags": []
   },
   "source": [
    "### Price Outlier Treatment"
   ]
  },
  {
   "cell_type": "code",
   "execution_count": null,
   "id": "3770e142-9683-4efa-ab6c-9b81bf7a55ac",
   "metadata": {},
   "outputs": [],
   "source": [
    "# Preview distribution\n",
    "boxHistplot(data,'Price')\n",
    "densityPlot(data,'Price')"
   ]
  },
  {
   "cell_type": "markdown",
   "id": "3486b26c-e531-4126-a9ee-b409a8ae630b",
   "metadata": {},
   "source": [
    "* We observe a number of columns, one extreme outlier with 160 needs further investigation"
   ]
  },
  {
   "cell_type": "code",
   "execution_count": null,
   "id": "bef36114-4c2d-4c44-ba94-15fd9715e7a4",
   "metadata": {},
   "outputs": [],
   "source": [
    "data.loc[data['Price'] > 120]"
   ]
  },
  {
   "cell_type": "markdown",
   "id": "d3cf335c-fed3-4aa0-80b4-3763e0e62974",
   "metadata": {},
   "source": [
    "* Price column has an outlier of 160. Since we have missing values on this column, we will log transform it later after missing value treatment"
   ]
  },
  {
   "cell_type": "markdown",
   "id": "9ee568c5-eb71-4ffc-afe1-2cf94ecdb365",
   "metadata": {
    "tags": []
   },
   "source": [
    "## Missing Value Treatment"
   ]
  },
  {
   "cell_type": "code",
   "execution_count": null,
   "id": "73031275-dab4-4c03-9c21-786169dd4f8e",
   "metadata": {},
   "outputs": [],
   "source": [
    "data.isnull().sum()"
   ]
  },
  {
   "cell_type": "markdown",
   "id": "9483a22d-a998-43c8-9d2a-fe24776bd8d2",
   "metadata": {},
   "source": [
    "Since these are numerical values, we will inpute missing values with the mean, median accordingly"
   ]
  },
  {
   "cell_type": "markdown",
   "id": "bfa05dc4-c63e-4cef-8098-8cd12d3e1c1c",
   "metadata": {},
   "source": [
    "### Mileage Treatment"
   ]
  },
  {
   "cell_type": "code",
   "execution_count": null,
   "id": "667bdata9f-942c-4f60-9fba-9b427f23fdd9",
   "metadata": {},
   "outputs": [],
   "source": [
    "data[\"Mileage\"].fillna(\n",
    "    data[\"Mileage\"].median(), inplace=True\n",
    ")  # median imputation for Mileage"
   ]
  },
  {
   "cell_type": "markdown",
   "id": "82025a4c-ae2b-4a8f-a3c1-c1ba9ff8029e",
   "metadata": {},
   "source": [
    "### Power Treatment"
   ]
  },
  {
   "cell_type": "code",
   "execution_count": null,
   "id": "6b2c035b-56cc-4de2-b797-b8c29e37db30",
   "metadata": {},
   "outputs": [],
   "source": [
    "# Check if we have zero values in power and replace with nan for missing values treatment\n",
    "data.query(\"Power == 0\")"
   ]
  },
  {
   "cell_type": "code",
   "execution_count": null,
   "id": "9009e75a-9ba5-4231-ad6d-b8datadace88fe",
   "metadata": {},
   "outputs": [],
   "source": [
    "data[\"Power\"].fillna(\n",
    "    data[\"Power\"].median(), inplace=True\n",
    ")  # median imputation for power"
   ]
  },
  {
   "cell_type": "markdown",
   "id": "42540b20-e411-4dae-9c4f-35684e962e87",
   "metadata": {},
   "source": [
    "### Engine Treatment"
   ]
  },
  {
   "cell_type": "code",
   "execution_count": null,
   "id": "4170ff46-d662-4d69-b14b-f0e6e9fe19f3",
   "metadata": {},
   "outputs": [],
   "source": [
    "# Check if we have zero values in engine and replace with nan for missing values treatment\n",
    "data.query(\"Engine == 0\")"
   ]
  },
  {
   "cell_type": "code",
   "execution_count": null,
   "id": "eeda293d-bb27-4050-8679-317edd3c6881",
   "metadata": {},
   "outputs": [],
   "source": [
    "data[\"Engine\"].fillna(\n",
    "    data[\"Engine\"].median(), inplace=True\n",
    ")  # mean imputation for Engine"
   ]
  },
  {
   "cell_type": "markdown",
   "id": "942bc115-7c19-4ad2-b1e8-363ff4f3783a",
   "metadata": {},
   "source": [
    "### Seats Treatment"
   ]
  },
  {
   "cell_type": "code",
   "execution_count": null,
   "id": "32e5ee89-f2f7-4918-85d9-96de01f513dc",
   "metadata": {},
   "outputs": [],
   "source": [
    "# Check if we have zero values in seats and replace with nan for missing values treatment\n",
    "data.query(\"Seats == 0\")"
   ]
  },
  {
   "cell_type": "code",
   "execution_count": null,
   "id": "7d46a1d3-9836-4566-a321-27e5a1b78230",
   "metadata": {},
   "outputs": [],
   "source": [
    "# Replace with Nan\n",
    "data.loc[3999, \"Seats\"] = np.nan"
   ]
  },
  {
   "cell_type": "code",
   "execution_count": null,
   "id": "537cc12d-32fd-4928-bd73-cca632a03806",
   "metadata": {},
   "outputs": [],
   "source": [
    "data[\"Seats\"].fillna(data[\"Seats\"].mean(), inplace=True)  # mean imputation for seats"
   ]
  },
  {
   "cell_type": "markdown",
   "id": "e384f9ca-e307-43ca-8365-bf25cb14e272",
   "metadata": {},
   "source": [
    "### Price Treatment"
   ]
  },
  {
   "cell_type": "code",
   "execution_count": null,
   "id": "3eecb8fb-e9ce-4ae8-b457-68448a848a4a",
   "metadata": {},
   "outputs": [],
   "source": [
    "# Check if we have zero values in price and replace with nan for missing values treatment\n",
    "data.query(\"Price == 0\")"
   ]
  },
  {
   "cell_type": "markdown",
   "id": "d26fcae2-b017-47fb-8641-b2beffbf307e",
   "metadata": {},
   "source": [
    "* Since this is the target variable, we should drop all missing values"
   ]
  },
  {
   "cell_type": "code",
   "execution_count": null,
   "id": "ad6c1ca3-b3cc-4219-ad6e-b4584ac8e1cf",
   "metadata": {},
   "outputs": [],
   "source": [
    "data=data.dropna(subset=['Price'])"
   ]
  },
  {
   "cell_type": "markdown",
   "id": "5d356e55-8b85-4782-9fe2-d8d386c80908",
   "metadata": {},
   "source": [
    "### Verify Missing values result"
   ]
  },
  {
   "cell_type": "code",
   "execution_count": null,
   "id": "e3222913-e04b-49cd-9c91-38e04cf4efca",
   "metadata": {},
   "outputs": [],
   "source": [
    "# Verfy missing values\n",
    "data.isnull().sum()"
   ]
  },
  {
   "cell_type": "markdown",
   "id": "3d013401-8733-41fd-be49-d5e5146b8a01",
   "metadata": {},
   "source": [
    "## Feature Engineering"
   ]
  },
  {
   "cell_type": "markdown",
   "id": "dd9968c1-2555-4077-a47a-0ea195eaac2c",
   "metadata": {
    "tags": []
   },
   "source": [
    "#### Year"
   ]
  },
  {
   "cell_type": "code",
   "execution_count": null,
   "id": "8b720428-7a69-4b2e-b1bf-44c677cde2e0",
   "metadata": {},
   "outputs": [],
   "source": [
    "# processing to determine age of car. We will use 2023 as current year\n",
    "data[\"Year_Current\"] = 2023\n",
    "data[\"Car_Age\"] = data[\"Year_Current\"] - data[\"Year\"]\n",
    "# Drop Column Year_Current as we will no longer need it\n",
    "data.drop(\"Year_Current\", axis=1, inplace=True)"
   ]
  },
  {
   "cell_type": "code",
   "execution_count": null,
   "id": "7c7ded85-101f-44bc-8528-21c4466361b9",
   "metadata": {},
   "outputs": [],
   "source": [
    "#### Analysis of Car Age"
   ]
  },
  {
   "cell_type": "code",
   "execution_count": null,
   "id": "dd0a8976-6f01-4a30-ace6-d0a5ca8ca5a9",
   "metadata": {},
   "outputs": [],
   "source": [
    "plt.figure(figsize=(10,5))\n",
    "sns.histplot(data=data,x='Car_Age')\n",
    "plt.show()"
   ]
  },
  {
   "cell_type": "markdown",
   "id": "667aea1e-b4f1-4a66-9f76-37b355b2aca7",
   "metadata": {},
   "source": [
    "* Car_Age is right skewed. We can apply log transformation"
   ]
  },
  {
   "cell_type": "code",
   "execution_count": null,
   "id": "6154ba68-d78f-4508-ab55-f758f8660434",
   "metadata": {},
   "outputs": [],
   "source": [
    "data['Car_Age_log'] = np.log(data['Car_Age'])"
   ]
  },
  {
   "cell_type": "code",
   "execution_count": null,
   "id": "4ee86d5e-8318-486a-b123-6d5888625484",
   "metadata": {},
   "outputs": [],
   "source": [
    "plt.figure(figsize=(10,5))\n",
    "sns.histplot(data=data,x='Car_Age_log')\n",
    "plt.show()"
   ]
  },
  {
   "cell_type": "markdown",
   "id": "713ba5f9-da83-4246-922d-6f7b7997f03f",
   "metadata": {},
   "source": []
  },
  {
   "cell_type": "markdown",
   "id": "67c96f51-9520-43f9-be38-867e2182e2aa",
   "metadata": {
    "tags": []
   },
   "source": [
    "#### Fuel Type"
   ]
  },
  {
   "cell_type": "code",
   "execution_count": null,
   "id": "11912635-3b86-4014-bc04-42ad1873c251",
   "metadata": {},
   "outputs": [],
   "source": [
    "# Checking unique Fuel Types\n",
    "data[\"Fuel_Type\"].unique()"
   ]
  },
  {
   "cell_type": "markdown",
   "id": "120a219e-c0ea-43c7-9316-c6ca87cf329f",
   "metadata": {},
   "source": [
    "    We observe 4 fuel types in the dataset. No further action here"
   ]
  },
  {
   "cell_type": "markdown",
   "id": "52b3001e-37a3-4069-867b-93ec9f43bffe",
   "metadata": {
    "tags": []
   },
   "source": [
    "#### Price"
   ]
  },
  {
   "cell_type": "code",
   "execution_count": null,
   "id": "e9965e29-dae9-4fe3-a0b9-a43db75f8b14",
   "metadata": {},
   "outputs": [],
   "source": [
    "# Check  if we have zero values\n",
    "data.query(\"Price == 0\")"
   ]
  },
  {
   "cell_type": "markdown",
   "id": "61dece71-f957-476f-83e1-441151dd0558",
   "metadata": {
    "tags": []
   },
   "source": [
    "#### Name"
   ]
  },
  {
   "cell_type": "code",
   "execution_count": null,
   "id": "04633e32-43f7-48c1-9d8a-f727981e12a0",
   "metadata": {},
   "outputs": [],
   "source": [
    "def retrieve_brand(name):\n",
    "    brand = name.split(' ')[0]\n",
    "    return brand\n",
    "\n",
    "def retrieve_model(name):\n",
    "    model = name.split(' ')[1]\n",
    "    return model"
   ]
  },
  {
   "cell_type": "markdown",
   "id": "2602d50e-5079-486b-97b6-623d0af8d27c",
   "metadata": {},
   "source": [
    "Company brand affects the price of cars.  \n",
    "* Since the Name combines both brand & model. We will strip and have brand/Model columns suing functions created earlier"
   ]
  },
  {
   "cell_type": "code",
   "execution_count": null,
   "id": "896d2e9b-89fa-46eb-9f4b-fcec9eeccaa6",
   "metadata": {},
   "outputs": [],
   "source": [
    "data[\"Brand\"] = data[\"Name\"].apply(retrieve_brand)\n",
    "data[\"Model\"] = data[\"Name\"].apply(retrieve_model)"
   ]
  },
  {
   "cell_type": "code",
   "execution_count": null,
   "id": "e35cd1e6-b37a-43da-add7-323eef640f0c",
   "metadata": {},
   "outputs": [],
   "source": [
    "# Preview Brands\n",
    "data[\"Brand\"].unique()"
   ]
  },
  {
   "cell_type": "code",
   "execution_count": null,
   "id": "53681cfc-52f7-4ff4-b5f2-8706be67a7b4",
   "metadata": {},
   "outputs": [],
   "source": [
    "# Preview Models\n",
    "data[\"Model\"].unique()"
   ]
  },
  {
   "cell_type": "markdown",
   "id": "f624bb2f-e99a-4004-9e84-9ffc1621b485",
   "metadata": {},
   "source": [
    "* We observe some names have spilled over to Model column like Land Rover where Land is in Brand and Rover is in model. Same case for mini cooper This needs to be corrected\n",
    "* We observe duplicate names for Isuzu in lower and upper case, probably a data entry error "
   ]
  },
  {
   "cell_type": "code",
   "execution_count": null,
   "id": "ad27fbc9-6a99-4fa7-adataf-dd5339ef6894",
   "metadata": {},
   "outputs": [],
   "source": [
    "#Check how many rows have ISUZU\n",
    "data.loc[data.Brand == 'ISUZU','Brand'].shape\n"
   ]
  },
  {
   "cell_type": "code",
   "execution_count": null,
   "id": "64a2a083-a1e3-4ed4-a9b4-486bb1ca5ffc",
   "metadata": {},
   "outputs": [],
   "source": [
    "# Convert to lower case\n",
    "data.loc[data.Brand == \"ISUZU\", \"Brand\"] = \"Isuzu\""
   ]
  },
  {
   "cell_type": "code",
   "execution_count": null,
   "id": "79d81c3d-4ed9-478c-905e-6a7d8492da96",
   "metadata": {},
   "outputs": [],
   "source": [
    "# Convert Land Brand Name to Land Rover and Mini to Mini Cooper\n",
    "data.loc[data.Brand == \"Mini\", \"Brand\"] = \"Mini_Cooper\"\n",
    "data.loc[data.Brand == \"Land\", \"Brand\"] = \"Land_Rover\""
   ]
  },
  {
   "cell_type": "code",
   "execution_count": null,
   "id": "aae9bba9-c304-4550-a980-2e6a90e9ebc1",
   "metadata": {},
   "outputs": [],
   "source": [
    "# Verify the corrections\n",
    "data.loc[(data.Brand == \"Mini_Cooper\") | (data.Brand == \"Land_Rover\"), \"Brand\"].sample(\n",
    "    10\n",
    ")"
   ]
  },
  {
   "cell_type": "code",
   "execution_count": null,
   "id": "6d4af241-2ca9-43da-b629-cb77dc429ad9",
   "metadata": {},
   "outputs": [],
   "source": [
    "#  model & name columns\n",
    "data.drop(\"Name\", axis=1, inplace=True)"
   ]
  },
  {
   "cell_type": "code",
   "execution_count": null,
   "id": "82bdc330-e80a-4b18-af29-42561abab458",
   "metadata": {},
   "outputs": [],
   "source": [
    "# Verify the data\n",
    "data.sample(10)"
   ]
  },
  {
   "cell_type": "code",
   "execution_count": null,
   "id": "483b5517-963e-4569-a2b5-de58c5323176",
   "metadata": {},
   "outputs": [],
   "source": [
    "## Drop Model Column"
   ]
  },
  {
   "cell_type": "markdown",
   "id": "dd298c1e-4dfa-4ccf-951a-6b5f42969995",
   "metadata": {},
   "source": [
    "#### Processing New Price"
   ]
  },
  {
   "cell_type": "code",
   "execution_count": null,
   "id": "91bd33bc-4289-4811-89e8-224b22d946af",
   "metadata": {},
   "outputs": [],
   "source": [
    "data['New_Price_log']= np.log(data['New_Price'])"
   ]
  },
  {
   "cell_type": "markdown",
   "id": "a1882871-359d-48f7-af0c-8c367ea90e4b",
   "metadata": {},
   "source": [
    "#### Processing Price"
   ]
  },
  {
   "cell_type": "code",
   "execution_count": null,
   "id": "8a9f1779-c1e7-4c83-a4fa-614a6a460965",
   "metadata": {},
   "outputs": [],
   "source": [
    "data['Price_log'] = np.log(data['Price'])"
   ]
  },
  {
   "cell_type": "markdown",
   "id": "7f4added-9347-428c-8d9d-cad688d64e5a",
   "metadata": {
    "tags": []
   },
   "source": [
    "## Answers to key questions"
   ]
  },
  {
   "cell_type": "markdown",
   "id": "73ddc15f-986e-4655-8170-e61a8f8912d9",
   "metadata": {
    "tags": []
   },
   "source": [
    "### Q. How many types of car brands and models are available?"
   ]
  },
  {
   "cell_type": "code",
   "execution_count": null,
   "id": "e347bea0-ff1a-4e1d-9f34-9fc9cd65a937",
   "metadata": {},
   "outputs": [],
   "source": [
    "print(\n",
    "    f\"There are {data['Brand'].nunique()}  and  {data['Model'].nunique()} brands  in the data set.\"\n",
    ")"
   ]
  },
  {
   "cell_type": "code",
   "execution_count": null,
   "id": "aefb5113-7763-487c-820d-1af01f157bd4",
   "metadata": {},
   "outputs": [],
   "source": [
    "labeled_barplot(data, \"Brand\")\n",
    "data.drop('Model',axis=1, inplace=True)"
   ]
  },
  {
   "cell_type": "markdown",
   "id": "6eb6a109-c707-44bc-88fc-858bfe538d8b",
   "metadata": {
    "jp-MarkdownHeadingCollapsed": true,
    "tags": []
   },
   "source": [
    " Maruti, Hyundai cars have the highest number of cars in the dataset"
   ]
  },
  {
   "cell_type": "markdown",
   "id": "39883bb4-2988-428e-a971-64a3f2bd9e72",
   "metadata": {
    "tags": []
   },
   "source": [
    "### How does the Price vary across different car brands ?"
   ]
  },
  {
   "cell_type": "markdown",
   "id": "e0e8359d-49b8-44f9-9bad-55fbb40ad4c8",
   "metadata": {
    "tags": []
   },
   "source": [
    "#### Analyzing with price for new Cars"
   ]
  },
  {
   "cell_type": "code",
   "execution_count": null,
   "id": "44619750-1007-4919-ba4d-15fe2cbd05a8",
   "metadata": {},
   "outputs": [],
   "source": [
    "data.groupby(\"Brand\")[\"New_Price\"].mean().sort_values(ascending=False)"
   ]
  },
  {
   "cell_type": "markdown",
   "id": "ee7cee59-89d9-408c-ae12-468b68393520",
   "metadata": {
    "tags": []
   },
   "source": [
    "#### Analyzing with price for used Cars"
   ]
  },
  {
   "cell_type": "code",
   "execution_count": null,
   "id": "937ead8f-7522-435b-b4cc-b1cfd5162d68",
   "metadata": {},
   "outputs": [],
   "source": [
    "data.groupby(\"Brand\")[\"Price\"].mean().sort_values(ascending=False)"
   ]
  },
  {
   "cell_type": "code",
   "execution_count": null,
   "id": "18c1bf26-7bda-4253-82b9-070fb67b968a",
   "metadata": {},
   "outputs": [],
   "source": [
    "plt.figure(figsize=(15, 5))\n",
    "\n",
    "plt.subplot(1, 2, 1)\n",
    "sns.barplot(data=data, y=\"New_Price\", x=\"Brand\")\n",
    "plt.xticks(rotation=90)\n",
    "plt.title(\"New Cars\")\n",
    "\n",
    "plt.subplot(1, 2, 2)\n",
    "sns.barplot(data=data, y=\"Price\", x=\"Brand\")\n",
    "plt.xticks(rotation=90)\n",
    "plt.title(\"Used Cars\")\n",
    "\n",
    "plt.show()"
   ]
  },
  {
   "cell_type": "markdown",
   "id": "a3d2befc-cd6b-4b1c-9e82-e9412210ffc3",
   "metadata": {},
   "source": [
    "* Amongst new cars, Bently is the most expensive while lamborghini is the most expensive car brand amongst used cars\n",
    "* Maruti, Hyundai , Honda , audi, Nissan, Toyota, Volkswagen, Tata, Renault, Mahindra ,Ford, Datsun, Fiat, Hindustan, OpeCorsa , Isuzu, Force seem competitively priced for new and used cars "
   ]
  },
  {
   "cell_type": "markdown",
   "id": "22deec16-6716-4478-af58-2c5181ce8218",
   "metadata": {
    "tags": []
   },
   "source": [
    "### How does year of manufacture vary with the pricing of used cars?"
   ]
  },
  {
   "cell_type": "code",
   "execution_count": null,
   "id": "b43e0a99-a2fc-4b92-9a2d-00a357e31bcf",
   "metadata": {},
   "outputs": [],
   "source": [
    "plt.figure(figsize=(15, 5))\n",
    "\n",
    "plt.subplot(1, 2, 1)\n",
    "sns.barplot(data=data, y=\"New_Price\", x=\"Year\")\n",
    "plt.xticks(rotation=90)\n",
    "plt.title(\"New Cars\")\n",
    "\n",
    "plt.subplot(1, 2, 2)\n",
    "sns.barplot(data=data, y=\"Price\", x=\"Year\")\n",
    "plt.xticks(rotation=90)\n",
    "plt.title(\"Used Cars\")\n",
    "\n",
    "plt.show()\n",
    "\n",
    "#Drop Year Column\n",
    "data.drop('Year',axis=1,inplace=True)"
   ]
  },
  {
   "cell_type": "markdown",
   "id": "8ca35ff9-9bf3-45b8-8c94-da7fe6cef731",
   "metadata": {},
   "source": [
    "* The price of cars has remained unchanged for new cars manufactured over the period from 1996 to 2019\n",
    "* On the other hand, the price for used cars  increases with age and is left skewed"
   ]
  },
  {
   "cell_type": "markdown",
   "id": "c491d096-65ac-492f-af7f-eb6c4eac2409",
   "metadata": {
    "tags": []
   },
   "source": [
    "### High performance cars are good for certain types of customers. How many cars are available for different brands with 200 bhp and above?"
   ]
  },
  {
   "cell_type": "code",
   "execution_count": null,
   "id": "5a9dded3-fc1d-42ff-9e9a-a023360981f7",
   "metadata": {},
   "outputs": [],
   "source": [
    "print(f\"We have {data.loc[data['Power'] > 200].shape[0]} cars with more that 200bhp\")"
   ]
  },
  {
   "cell_type": "markdown",
   "id": "2ee0fd99-77a6-4945-9ef6-c2e595f1daaf",
   "metadata": {
    "tags": []
   },
   "source": [
    "### What percentage of cars have a high bhp across different models/brands?"
   ]
  },
  {
   "cell_type": "code",
   "execution_count": null,
   "id": "32040ee2-60c8-454b-adata6-d39fa23b2927",
   "metadata": {},
   "outputs": [],
   "source": [
    "data_high = data.loc[data['Power'] > 200]\n",
    "(data_high.Brand.value_counts() / data.Brand.value_counts()).sort_values(ascending=False)"
   ]
  },
  {
   "cell_type": "markdown",
   "id": "e140e753-8c6b-4e57-946d-a773eda22a32",
   "metadata": {},
   "source": [
    "* Bentley, Lamborghini have the hightest bhp followed by Porsche, Jaguar, Mercedez"
   ]
  },
  {
   "cell_type": "markdown",
   "id": "f57e8418-1ba5-42e1-b2ed-6d8cd86be4cf",
   "metadata": {
    "tags": []
   },
   "source": [
    " ### How does the New_Price vary with used car price across all brands?"
   ]
  },
  {
   "cell_type": "code",
   "execution_count": null,
   "id": "9fa02994-c006-4c7c-9bd7-95c4a7a50d36",
   "metadata": {},
   "outputs": [],
   "source": [
    "\n",
    "\n",
    "data_price_comparision = data.groupby([\"Brand\"])[\"New_Price\", \"Price\"].mean()\n",
    "data_price_comparision[\"Depreciation\"] = (\n",
    "    (data_price_comparision.New_Price - data_price_comparision.Price)\n",
    "    / data_price_comparision.New_Price\n",
    ") * 100\n",
    "\n"
   ]
  },
  {
   "cell_type": "code",
   "execution_count": null,
   "id": "51ed97ab-0a46-41b8-b038-ace2264d65bb",
   "metadata": {},
   "outputs": [],
   "source": [
    "data_price_comparision.sort_values(ascending=False, by=\"Depreciation\")"
   ]
  },
  {
   "cell_type": "markdown",
   "id": "428393af-4710-415c-8598-2data93feefab2",
   "metadata": {},
   "source": [
    "* Ambassador, Bentley, Smart, Chevrolet cars brand has the highest depreciation rate and lowest resale value\n",
    "* Jeep and Force cars have lowest depreciation and highest resale value\n",
    "* Lamborghini resale price is high\n"
   ]
  },
  {
   "cell_type": "markdown",
   "id": "8d519c8a-4fd0-4467-9322-2a92e8b31c8b",
   "metadata": {
    "tags": []
   },
   "source": [
    "### How does the number of seats vary with the prices across different brands?"
   ]
  },
  {
   "cell_type": "code",
   "execution_count": null,
   "id": "0f7293e4-5737-4bf5-a539-c533f43d8163",
   "metadata": {},
   "outputs": [],
   "source": [
    "plt.figure(figsize=(15, 5))\n",
    "\n",
    "\n",
    "plt.subplot(1, 2, 2)\n",
    "sns.barplot(data=data, y=\"Price\", x=\"Seats\")\n",
    "plt.xticks(rotation=90)\n",
    "plt.title(\"Used Car Price Vs Seats\")\n",
    "\n",
    "plt.show()"
   ]
  },
  {
   "cell_type": "markdown",
   "id": "a119d481-5be4-46cc-825c-09636351dee5",
   "metadata": {},
   "source": [
    "* 2 Seater cars are the most expensive \n",
    "* Seats 5.280494581828286 seem odd. We need to analyze and treat accoridngly\n"
   ]
  },
  {
   "cell_type": "markdown",
   "id": "32a8a2dc-315f-41d7-8d6a-07566d0bb08f",
   "metadata": {},
   "source": [
    "#### Seats treatment for erroneous value"
   ]
  },
  {
   "cell_type": "code",
   "execution_count": null,
   "id": "3c77cfec-454c-4fc8-90eb-27267f0bf59b",
   "metadata": {},
   "outputs": [],
   "source": [
    "#Fetch all Seats with 5.2** and round to 5 \n",
    "indexes_seats = data.loc[data[\"Seats\"] == 5.280494581828286].index"
   ]
  },
  {
   "cell_type": "code",
   "execution_count": null,
   "id": "06b63d5f-1321-49e1-b163-2029674a4653",
   "metadata": {},
   "outputs": [],
   "source": [
    "for index in indexes_seats:\n",
    "    data.loc[index,'Seats'] = 5"
   ]
  },
  {
   "cell_type": "code",
   "execution_count": null,
   "id": "d6ce1778-c69f-4bcc-a305-9b262210e8ba",
   "metadata": {},
   "outputs": [],
   "source": [
    "#Verify if seat value is treated\n",
    "\n",
    "plt.figure(figsize=(15, 5))\n",
    "\n",
    "plt.subplot(1, 2, 2)\n",
    "sns.barplot(data=data, y=\"Price\", x=\"Seats\")\n",
    "plt.xticks(rotation=90)\n",
    "plt.title(\"Used Cars vs Seats\")\n",
    "\n",
    "plt.show()"
   ]
  },
  {
   "cell_type": "code",
   "execution_count": null,
   "id": "8cf51c66-7d41-4b2f-bf17-de9e70f15439",
   "metadata": {},
   "outputs": [],
   "source": [
    "# Sample check to confirm \n",
    "data.sample(10)"
   ]
  },
  {
   "cell_type": "code",
   "execution_count": null,
   "id": "fbac79f9-4c21-4bb1-9ea5-f4aea1afc5b2",
   "metadata": {},
   "outputs": [],
   "source": [
    "## Recheck duplicates and drop them\n",
    "data = data.drop_duplicates()"
   ]
  },
  {
   "cell_type": "markdown",
   "id": "e3c5bfa8-f573-4d05-b78a-e822eef227fc",
   "metadata": {},
   "source": [
    "#### Statistical summary after data processing"
   ]
  },
  {
   "cell_type": "code",
   "execution_count": null,
   "id": "713c96f8-03f6-42ce-bdf9-b4890c29faaa",
   "metadata": {},
   "outputs": [],
   "source": [
    "data.describe(include=\"all\").T"
   ]
  },
  {
   "cell_type": "code",
   "execution_count": null,
   "id": "9398fe5f-f435-48f1-a61d-df8f89b1a09b",
   "metadata": {},
   "outputs": [],
   "source": [
    "#Review correlation between variables after data processing\n",
    "plt.figure(figsize=(12, 7))\n",
    "sns.heatmap(data.corr(), annot=True, vmin=-1, vmax=1, fmt=\".2f\", cmap=\"Spectral\")\n",
    "plt.show()"
   ]
  },
  {
   "cell_type": "markdown",
   "id": "edacc862-f311-4b01-93c3-fe6fc57da30f",
   "metadata": {},
   "source": [
    "* Average car age is approximately 10 years while the Minimum car age is 4 while max is 27 years\n",
    "* We observe that average mileage is 18 kmpl\n",
    "* The average engine capacity from the dataset is now visible at 1616 cc with maximum Engine Capcity at 5998\n",
    "* The average power is 113 bhp and maximum power is 616 bhp\n",
    "* The mean car age is approximately 10 years\n",
    "* We observe a strong correlation between the used car Price and Power"
   ]
  },
  {
   "cell_type": "markdown",
   "id": "9121c7b8-bb6c-4af1-93cd-cac732e1d93c",
   "metadata": {},
   "source": [
    "## Drop original transformed columns"
   ]
  },
  {
   "cell_type": "code",
   "execution_count": null,
   "id": "77afc944-ec72-4e09-8fdc-96daf8c5d84b",
   "metadata": {},
   "outputs": [],
   "source": [
    "data.info()"
   ]
  },
  {
   "cell_type": "code",
   "execution_count": null,
   "id": "6f97a762-2124-4cee-a08e-3d1ff1bd67b2",
   "metadata": {},
   "outputs": [],
   "source": [
    "data.drop(['Kilometers_Driven','Car_Age','New_Price'],axis=1,inplace=True)\n",
    "\n"
   ]
  },
  {
   "cell_type": "code",
   "execution_count": null,
   "id": "4acef9e6-e37b-4a05-9ad2-a12ab41924dd",
   "metadata": {},
   "outputs": [],
   "source": [
    "data.head()"
   ]
  },
  {
   "cell_type": "code",
   "execution_count": null,
   "id": "2d65413c-2657-447e-8538-bef61bc12b10",
   "metadata": {},
   "outputs": [],
   "source": []
  },
  {
   "cell_type": "markdown",
   "id": "bbcfc2b1-6ef1-4143-8133-0ee32668cc5f",
   "metadata": {},
   "source": [
    "# Model Building"
   ]
  },
  {
   "cell_type": "code",
   "execution_count": null,
   "id": "7b34fb1b-dcc7-4cbf-8e8c-f0c1f9451025",
   "metadata": {},
   "outputs": [],
   "source": [
    "# create function to convert object columns to dummies\n",
    "def convertObjectColumnsToDummies(X):\n",
    "   \n",
    "    X = pd.get_dummies(\n",
    "        X,\n",
    "        columns=data.select_dtypes(include=[\"object\"]).columns.tolist(),\n",
    "        drop_first=True,\n",
    "    )\n",
    "    X= X.rename(columns={'Owner_Type_Fourth & Above' : 'Owner_Type_Fourth_above','Brand_Mercedes-Benz' :'Brand_Mercedez_Benz' },inplace=True)\n",
    "    return X"
   ]
  },
  {
   "cell_type": "code",
   "execution_count": null,
   "id": "28b700ac-e86d-4c44-9eec-eec178d8df6d",
   "metadata": {},
   "outputs": [],
   "source": []
  },
  {
   "cell_type": "code",
   "execution_count": null,
   "id": "872cb466-83ec-4528-bd3e-763b273447d7",
   "metadata": {},
   "outputs": [],
   "source": [
    "data.head()"
   ]
  },
  {
   "cell_type": "markdown",
   "id": "6713d90a-75bf-4f82-89db-cc12a38d9bf1",
   "metadata": {},
   "source": [
    "## Define dependent and independent variables"
   ]
  },
  {
   "cell_type": "code",
   "execution_count": null,
   "id": "ea5e92c4-f476-4a7c-a5fd-a1b6bd673e7a",
   "metadata": {},
   "outputs": [],
   "source": [
    "X = data.drop([\"Price\", \"Price_log\"], axis=1)\n",
    "\n",
    "# Let us create 2 target variables y & y2 for Price and Price_log respectively\n",
    "y = data[[\"Price\"]]\n",
    "y2 = data[[\"Price_log\"]]"
   ]
  },
  {
   "cell_type": "markdown",
   "id": "fd27dda5-2377-44ed-b6bc-4c00d2920556",
   "metadata": {},
   "source": [
    "## Creating dummy variables"
   ]
  },
  {
   "cell_type": "code",
   "execution_count": null,
   "id": "86e8de82-5712-4e60-80d2-5a79640771b5",
   "metadata": {},
   "outputs": [],
   "source": [
    "X = convertObjectColumnsToDummies(X)"
   ]
  },
  {
   "cell_type": "code",
   "execution_count": null,
   "id": "5c36746d-2cc2-4082-b14a-67cb208102bc",
   "metadata": {},
   "outputs": [],
   "source": [
    "#Verify Independent Variables\n",
    "X.head()"
   ]
  },
  {
   "cell_type": "markdown",
   "id": "6b834111-8f31-48f6-9928-a6e311b137a3",
   "metadata": {},
   "source": [
    "## Split Data into train and test for 1st Target Variable - Price"
   ]
  },
  {
   "cell_type": "code",
   "execution_count": null,
   "id": "98a1dafb-deb2-4ded-92b6-5f5f640e2e49",
   "metadata": {},
   "outputs": [],
   "source": [
    "X_Train, X_Test, y_train ,y_test = train_test_split(X, y, test_size=0.3,random_state=42)"
   ]
  },
  {
   "cell_type": "markdown",
   "id": "5529ea2e-84db-4592-9b3e-4d6432d676c7",
   "metadata": {},
   "source": [
    "## Split Data into train and test for 2nd Target Variable Price_log"
   ]
  },
  {
   "cell_type": "code",
   "execution_count": null,
   "id": "a30e715e-dcc4-47a0-a0c7-9ce559566297",
   "metadata": {},
   "outputs": [],
   "source": [
    "X_Train, X_Test, y_train2 ,y_test2 = train_test_split(X, y2, test_size=0.3,random_state=42)"
   ]
  },
  {
   "cell_type": "markdown",
   "id": "c8797b1b-b892-4b19-bf82-aa3172098f2e",
   "metadata": {},
   "source": [
    "## Fit the linear Model"
   ]
  },
  {
   "cell_type": "code",
   "execution_count": null,
   "id": "2315cde7-7aa5-437f-b4bf-03d06986eb3b",
   "metadata": {},
   "outputs": [],
   "source": [
    "# Function to fit the model\n",
    "def fitModel(train_x,train_y):\n",
    "    linear_regression_model = LinearRegression()\n",
    "    linear_regression_model.fit(train_x,train_y)\n",
    "    \n"
   ]
  },
  {
   "cell_type": "code",
   "execution_count": null,
   "id": "6368019b-10e9-4eb8-9c75-dd7790aef5ec",
   "metadata": {},
   "outputs": [],
   "source": [
    "X_Train"
   ]
  },
  {
   "cell_type": "code",
   "execution_count": null,
   "id": "e3d4a794-82ae-4a60-a436-c3c32f0b4664",
   "metadata": {},
   "outputs": [],
   "source": [
    "# Fit y\n",
    "fitModel(X_Train,y_train)"
   ]
  },
  {
   "cell_type": "code",
   "execution_count": null,
   "id": "a98332f5-fba3-4ced-8b2c-a56d0da3837c",
   "metadata": {},
   "outputs": [],
   "source": [
    "# Fit y2\n",
    "fitModel(X_Train,y_train2)"
   ]
  },
  {
   "cell_type": "markdown",
   "id": "14fb2ede-4793-4fdf-b96f-b0b9976feb4a",
   "metadata": {},
   "source": [
    "## Checking Model Performance"
   ]
  },
  {
   "cell_type": "markdown",
   "id": "1d47a55e-859d-49b3-a766-3346a3cd6a4c",
   "metadata": {},
   "source": [
    "* We will use RMSE ,MAE , MAPE and R2 from sklearn library to assess performance"
   ]
  },
  {
   "cell_type": "code",
   "execution_count": null,
   "id": "ecc84cdb-a94e-4b53-aa07-1cbc0b6cf8c3",
   "metadata": {},
   "outputs": [],
   "source": [
    "#Function to compute  adjusted R2\n",
    "def _adjustedRScore(independentVariables,dependentVariable,prediction):\n",
    "    r_squared = r2_score(dependentVariable,prediction)\n",
    "    n = independentVariables.shape[0]\n",
    "    k = independentVariables.shape[1]\n",
    "    \n",
    "    return  1 - ((1 - r_squared) * (n - 1) / (n - k - 1))\n",
    "\n",
    "\n",
    "\n",
    "# function to compute R2, RMSE, MAR for performance check of a regression model\n",
    "def model_performance_regression(model, independentVariables, dependentVariable):\n",
    "\n",
    "    \n",
    "    prediction = model.predict(independentVariables)\n",
    "\n",
    "    r_squared_score = r2_score(dependentVariable, prediction)  \n",
    "    adjusted_rsquared_score = _adjustedRScore(independentVariables, dependentVariable, prediction)  \n",
    "    root_mean_squared_error = np.sqrt(mse(dependentVariable, prediction))  \n",
    "    mean_absolute_error = mae(dependentVariable, prediction)  \n",
    "    mean_absolute_percentage_error = mean_absolute_percentage_error_score(dependentVariable,prediction)\n",
    "  \n",
    "\n",
    "    # create metrics DF\n",
    "    data_frame_performance = pd.DataFrame(\n",
    "        {\n",
    "            \"RMSE\": root_mean_squared_error,\n",
    "            \"MAE\": mean_absolute_error,\n",
    "            \"R-squared\": r_squared_score,\n",
    "            \"Adj. R-squared\": adjusted_rsquared_score,\n",
    "            \"Mean Absolute Error %\": mean_absolute_percentage_error\n",
    "          \n",
    "        },\n",
    "        index=[0],\n",
    "    )\n",
    "\n",
    "    return data_frame_performance\n",
    "\n",
    "# function to compute Mean Absolute Error %\n",
    "def mean_absolute_percentage_error_score(dependentVariable, prediction):\n",
    "    return np.mean(np.abs(dependentVariable - prediction) / dependentVariable, axis=0) * 100\n"
   ]
  },
  {
   "cell_type": "markdown",
   "id": "95a0ed47-08ab-4ce9-a37e-e0ae8ca3b0ba",
   "metadata": {},
   "source": [
    "###  Model Performance on Training Data for first Target Variable y -Price"
   ]
  },
  {
   "cell_type": "code",
   "execution_count": null,
   "id": "68dc5ecf-6254-4721-945f-ab299025eaa4",
   "metadata": {},
   "outputs": [],
   "source": [
    "print(\"Test Performance on Training Data - y \\n\")\n",
    "regression_model_training_performance = model_performance_regression(linear_regression_model, X_Train, y_train)\n",
    "regression_model_training_performance"
   ]
  },
  {
   "cell_type": "markdown",
   "id": "4c5619d3-20c8-4d04-80ea-24a5c12a185f",
   "metadata": {},
   "source": [
    "###  Model Performance on Test  Data for first target variable y -Price"
   ]
  },
  {
   "cell_type": "code",
   "execution_count": null,
   "id": "50d9aaef-b617-44a7-899c-862a8c99b3fe",
   "metadata": {},
   "outputs": [],
   "source": [
    "print(\"Test Performance on Test Data y\\n\")\n",
    "regression_model_test_performance = model_performance_regression(linear_regression_model, X_Test, y_test)\n",
    "regression_model_test_performance"
   ]
  },
  {
   "cell_type": "markdown",
   "id": "d36888bc-0c49-45de-93b6-b19987715daf",
   "metadata": {},
   "source": [
    "###  Model Performance on Training Data for second Target Variable y2 - Price_log"
   ]
  },
  {
   "cell_type": "code",
   "execution_count": null,
   "id": "b15d10ab-d883-4cff-894a-f1d8128971ce",
   "metadata": {},
   "outputs": [],
   "source": [
    "print(\"Test Performance on Training Data - y2 \\n\")\n",
    "regression_model_training_performance = model_performance_regression(linear_regression_model, X_Train, y_train2)\n",
    "regression_model_training_performance"
   ]
  },
  {
   "cell_type": "markdown",
   "id": "16d75604-34e6-4edc-a144-89142166fda1",
   "metadata": {},
   "source": [
    "###  Model Performance on Test Data for second Target Variable y2 - Price_log"
   ]
  },
  {
   "cell_type": "code",
   "execution_count": null,
   "id": "cd926f36-6ff5-4667-ba90-ee021708dbe7",
   "metadata": {},
   "outputs": [],
   "source": [
    "print(\"Test Performance on Test Data y2\\n\")\n",
    "regression_model_test_performance = model_performance_regression(linear_regression_model, X_Test, y_test2)\n",
    "regression_model_test_performance"
   ]
  },
  {
   "cell_type": "markdown",
   "id": "ae074dc5-3a3b-4004-9c53-6b1e63f46813",
   "metadata": {},
   "source": [
    "**Model Observations**"
   ]
  },
  {
   "cell_type": "markdown",
   "id": "b8b3bf50-5f8d-4a0e-ad5e-d903e9faf0b3",
   "metadata": {},
   "source": [
    "- The train and test $R^2$ are 0.77 and 0.82, indicating that the model explains 77% and 82% of the total variation in the train and test sets respectively. \n",
    "- RMSE values on the train and test sets are comparable.\n",
    "- MAE indicates that our current model is able to predict Price of used cars within a mean error of 1.47 on the test set and RMSE of 3.15 on the testing set\n",
    "- The model performs poorly on Price_log y2 with an MAE of 9.3 R2 of -185 and RMSE of 11\n",
    "- The model performs better on Price y and  can be used to predict Price of cars with MAE of 2, RMSE 4.45 with R-Squared 0.82 "
   ]
  },
  {
   "cell_type": "markdown",
   "id": "4241dec4-aad9-4194-a930-31a3f465c624",
   "metadata": {},
   "source": [
    "# Conclusions & recommendations"
   ]
  },
  {
   "cell_type": "markdown",
   "id": "1f9f2fd9-8cad-4965-827d-8e3960990a8b",
   "metadata": {},
   "source": [
    "- We have been able to build a predictive model that can be used by car to predict the prices of used cares with an $R^2$ of 0.72 on the training set.\n",
    "\n",
    "\n",
    "- Cars4U can use this model to predict the prices of used cars within a mean error of 1.65 on the test set\n",
    "\n",
    "\n",
    "- Cars4U can also explore other machine learning models which might be able to better predict the prices of used cars \n",
    "\n",
    "- Cars4U can focus on cars with less depreciation and high resale value\n",
    "\n",
    "- First owner type cars tend to sell alot due to lower kilometers driven and tend to be newer that other owner types. \n",
    "\n",
    "- Older cars tend to have a lower price than newer cars, the business can focus on relatively new cars due to the high demand\n",
    "\n",
    "\n",
    "\n",
    "\n"
   ]
  }
 ],
 "metadata": {
  "kernelspec": {
   "display_name": "Python 3 (ipykernel)",
   "language": "python",
   "name": "python3"
  },
  "language_info": {
   "codemirror_mode": {
    "name": "ipython",
    "version": 3
   },
   "file_extension": ".py",
   "mimetype": "text/x-python",
   "name": "python",
   "nbconvert_exporter": "python",
   "pygments_lexer": "ipython3",
   "version": "3.9.13"
  }
 },
 "nbformat": 4,
 "nbformat_minor": 5
}
